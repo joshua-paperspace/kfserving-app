{
 "cells": [
  {
   "cell_type": "code",
   "execution_count": 16,
   "id": "b59c11a1-ae6a-4909-9a38-9aa0f6861d0d",
   "metadata": {
    "execution": {
     "iopub.execute_input": "2022-08-29T23:11:35.719903Z",
     "iopub.status.busy": "2022-08-29T23:11:35.719197Z",
     "iopub.status.idle": "2022-08-29T23:11:36.240155Z",
     "shell.execute_reply": "2022-08-29T23:11:36.239502Z",
     "shell.execute_reply.started": "2022-08-29T23:11:35.719882Z"
    }
   },
   "outputs": [
    {
     "name": "stdout",
     "output_type": "stream",
     "text": [
      "Mon Aug 29 23:11:36 2022       \n",
      "+-----------------------------------------------------------------------------+\n",
      "| NVIDIA-SMI 460.91.03    Driver Version: 460.91.03    CUDA Version: 11.2     |\n",
      "|-------------------------------+----------------------+----------------------+\n",
      "| GPU  Name        Persistence-M| Bus-Id        Disp.A | Volatile Uncorr. ECC |\n",
      "| Fan  Temp  Perf  Pwr:Usage/Cap|         Memory-Usage | GPU-Util  Compute M. |\n",
      "|                               |                      |               MIG M. |\n",
      "|===============================+======================+======================|\n",
      "|   0  RTX A4000           Off  | 00000000:00:05.0 Off |                  Off |\n",
      "|ERR!   41C    P2    18W / 140W |  13267MiB / 16117MiB |      0%      Default |\n",
      "|                               |                      |                  N/A |\n",
      "+-------------------------------+----------------------+----------------------+\n",
      "                                                                               \n",
      "+-----------------------------------------------------------------------------+\n",
      "| Processes:                                                                  |\n",
      "|  GPU   GI   CI        PID   Type   Process name                  GPU Memory |\n",
      "|        ID   ID                                                   Usage      |\n",
      "|=============================================================================|\n",
      "+-----------------------------------------------------------------------------+\n"
     ]
    }
   ],
   "source": [
    "!nvidia-smi"
   ]
  },
  {
   "cell_type": "code",
   "execution_count": 17,
   "id": "27558870-26b0-43cb-9992-e19fe5510ad0",
   "metadata": {
    "execution": {
     "iopub.execute_input": "2022-08-29T23:11:41.947925Z",
     "iopub.status.busy": "2022-08-29T23:11:41.947147Z",
     "iopub.status.idle": "2022-08-29T23:11:41.960107Z",
     "shell.execute_reply": "2022-08-29T23:11:41.959553Z",
     "shell.execute_reply.started": "2022-08-29T23:11:41.947901Z"
    }
   },
   "outputs": [],
   "source": [
    "import numpy as np\n",
    "from datasets import Dataset\n",
    "\n",
    "\n",
    "seq_len, dataset_size = 512, 512\n",
    "dummy_data = {\n",
    "    \"input_ids\": np.random.randint(100, 30000, (dataset_size, seq_len)),\n",
    "    \"labels\": np.random.randint(0, 1, (dataset_size)),\n",
    "}\n",
    "ds = Dataset.from_dict(dummy_data)\n",
    "ds.set_format(\"pt\")"
   ]
  },
  {
   "cell_type": "code",
   "execution_count": 18,
   "id": "4b7ca159-f6f9-453c-b176-a5990bbd44fc",
   "metadata": {
    "execution": {
     "iopub.execute_input": "2022-08-29T23:11:42.387394Z",
     "iopub.status.busy": "2022-08-29T23:11:42.386803Z",
     "iopub.status.idle": "2022-08-29T23:11:44.466688Z",
     "shell.execute_reply": "2022-08-29T23:11:44.465997Z",
     "shell.execute_reply.started": "2022-08-29T23:11:42.387368Z"
    }
   },
   "outputs": [
    {
     "name": "stdout",
     "output_type": "stream",
     "text": [
      "Requirement already satisfied: pynvml in /usr/local/lib/python3.9/dist-packages (11.4.1)\n",
      "\u001b[33mWARNING: Running pip as the 'root' user can result in broken permissions and conflicting behaviour with the system package manager. It is recommended to use a virtual environment instead: https://pip.pypa.io/warnings/venv\u001b[0m\u001b[33m\n",
      "\u001b[0m"
     ]
    }
   ],
   "source": [
    "!pip install pynvml"
   ]
  },
  {
   "cell_type": "code",
   "execution_count": 19,
   "id": "8a18255c-d5d8-4832-8312-50fd830ad801",
   "metadata": {
    "execution": {
     "iopub.execute_input": "2022-08-29T23:11:44.468235Z",
     "iopub.status.busy": "2022-08-29T23:11:44.468022Z",
     "iopub.status.idle": "2022-08-29T23:11:44.472621Z",
     "shell.execute_reply": "2022-08-29T23:11:44.472111Z",
     "shell.execute_reply.started": "2022-08-29T23:11:44.468215Z"
    }
   },
   "outputs": [],
   "source": [
    "from pynvml import *\n",
    "\n",
    "\n",
    "def print_gpu_utilization():\n",
    "    nvmlInit()\n",
    "    handle = nvmlDeviceGetHandleByIndex(0)\n",
    "    info = nvmlDeviceGetMemoryInfo(handle)\n",
    "    print(f\"GPU memory occupied: {info.used//1024**2} MB.\")\n",
    "\n",
    "\n",
    "def print_summary(result):\n",
    "    print(f\"Time: {result.metrics['train_runtime']:.2f}\")\n",
    "    print(f\"Samples/second: {result.metrics['train_samples_per_second']:.2f}\")\n",
    "    print_gpu_utilization()"
   ]
  },
  {
   "cell_type": "code",
   "execution_count": 20,
   "id": "2266228a-4e2c-4c7e-8d3a-275c87bc4b01",
   "metadata": {
    "execution": {
     "iopub.execute_input": "2022-08-29T23:11:44.473368Z",
     "iopub.status.busy": "2022-08-29T23:11:44.473205Z",
     "iopub.status.idle": "2022-08-29T23:11:48.201843Z",
     "shell.execute_reply": "2022-08-29T23:11:48.201126Z",
     "shell.execute_reply.started": "2022-08-29T23:11:44.473353Z"
    }
   },
   "outputs": [
    {
     "name": "stdout",
     "output_type": "stream",
     "text": [
      "GPU memory occupied: 13267 MB.\n"
     ]
    }
   ],
   "source": [
    "import torch\n",
    "from transformers import AutoModelForSequenceClassification\n",
    "\n",
    "\n",
    "model = AutoModelForSequenceClassification.from_pretrained(\"bert-large-uncased\")\n",
    "print_gpu_utilization()"
   ]
  },
  {
   "cell_type": "code",
   "execution_count": 21,
   "id": "fd8ac76a-ed19-46b1-b66b-5ae7d1bdb6ae",
   "metadata": {
    "execution": {
     "iopub.execute_input": "2022-08-29T23:11:48.203540Z",
     "iopub.status.busy": "2022-08-29T23:11:48.203338Z",
     "iopub.status.idle": "2022-08-29T23:11:48.399985Z",
     "shell.execute_reply": "2022-08-29T23:11:48.399447Z",
     "shell.execute_reply.started": "2022-08-29T23:11:48.203529Z"
    }
   },
   "outputs": [
    {
     "name": "stdout",
     "output_type": "stream",
     "text": [
      "GPU memory occupied: 13267 MB.\n"
     ]
    }
   ],
   "source": [
    "model.to(0)\n",
    "print_gpu_utilization()"
   ]
  },
  {
   "cell_type": "code",
   "execution_count": 22,
   "id": "ace60ee0-092b-45c6-bbd7-aeab9a02765b",
   "metadata": {
    "execution": {
     "iopub.execute_input": "2022-08-29T23:11:48.401031Z",
     "iopub.status.busy": "2022-08-29T23:11:48.400826Z",
     "iopub.status.idle": "2022-08-29T23:11:48.404143Z",
     "shell.execute_reply": "2022-08-29T23:11:48.403554Z",
     "shell.execute_reply.started": "2022-08-29T23:11:48.401031Z"
    }
   },
   "outputs": [],
   "source": [
    "default_args = {\n",
    "    \"output_dir\": \"tmp\",\n",
    "    \"evaluation_strategy\": \"steps\",\n",
    "    \"num_train_epochs\": 1,\n",
    "    \"log_level\": \"error\",\n",
    "    \"report_to\": \"none\",\n",
    "}"
   ]
  },
  {
   "cell_type": "code",
   "execution_count": null,
   "id": "f2f1245a-759c-401f-ac22-c95fc26a6d41",
   "metadata": {
    "execution": {
     "iopub.execute_input": "2022-08-29T23:11:48.405470Z",
     "iopub.status.busy": "2022-08-29T23:11:48.404831Z"
    }
   },
   "outputs": [],
   "source": [
    "from transformers import TrainingArguments, Trainer, logging\n",
    "\n",
    "logging.set_verbosity_error()\n",
    "\n",
    "\n",
    "training_args = TrainingArguments(per_device_train_batch_size=4, **default_args)\n",
    "trainer = Trainer(model=model, args=training_args, train_dataset=ds)\n",
    "result = trainer.train()\n",
    "print_summary(result)"
   ]
  },
  {
   "cell_type": "code",
   "execution_count": null,
   "id": "c463b9d2-6c66-4327-9665-5ee05f9259e7",
   "metadata": {},
   "outputs": [],
   "source": []
  },
  {
   "cell_type": "code",
   "execution_count": null,
   "id": "44f41a9b-b9a2-400e-8678-42b6d3b7181f",
   "metadata": {},
   "outputs": [],
   "source": []
  },
  {
   "cell_type": "code",
   "execution_count": 15,
   "id": "2fd64b2a-be3d-45b8-b7eb-9af9332ae3db",
   "metadata": {
    "execution": {
     "iopub.execute_input": "2022-08-29T23:08:58.920507Z",
     "iopub.status.busy": "2022-08-29T23:08:58.919649Z",
     "iopub.status.idle": "2022-08-29T23:08:59.188937Z",
     "shell.execute_reply": "2022-08-29T23:08:59.188234Z",
     "shell.execute_reply.started": "2022-08-29T23:08:58.920479Z"
    }
   },
   "outputs": [
    {
     "name": "stdout",
     "output_type": "stream",
     "text": [
      "Notebook(id='nt4g4nxyg4', machine_type=None, vm_type_id=None, vm_type_label=None, container_id=None, container_name=None, name='Transformers + NLP 08/29/2022', cluster_id='clg07azjl', registry_username=None, registry_password=None, command=None, default_entrypoint=None, shutdown_timeout=2, is_preemptible=False, project_id=None, project_handle='p32f0hcvnbc', state='Running', vm_type='A4000', fqdn='nt4g4nxyg4.clg07azjl.paperspacegradient.com', namespace='gradient-next', tags=[], metrics_url='clg07azjl.paperspacegradient.com', is_public=False, token='8cd636b471fb57c26e3d6c3e0b488b21', job_error=None, job_handle='jgociqghj99wasy0', container='paperspace/gradient-base:pt112-tf29-jax0314-py39-20220803', container_url='paperspace/gradient-base:pt112-tf29-jax0314-py39-20220803', base_container='paperspace/gradient-base:pt112-tf29-jax0314-py39-20220803', base_container_url='paperspace/gradient-base:pt112-tf29-jax0314-py39-20220803', environment=None, workspace=None, workspace_username=None, workspace_password=None, workspace_ref=None, should_run_on_create=None, dt_created=datetime.datetime(2022, 8, 29, 22, 25, 8, 203000, tzinfo=tzlocal()), dt_modified=datetime.datetime(2022, 8, 29, 22, 25, 8, 203000, tzinfo=tzlocal()), dt_provisioning_started='2022-08-29T22:25:11.000Z', dt_provisioning_finished='2022-08-29T22:25:20.000Z', dt_started=datetime.datetime(2022, 8, 29, 22, 25, 20, tzinfo=tzlocal()), dt_finished=None, dt_teardown_started=None, dt_teardown_finished=None, dt_workspace_upload_finished=None, dt_deleted=None)\n"
     ]
    }
   ],
   "source": [
    "from gradient import NotebooksClient\n",
    "\n",
    "api_key='1fb1293c3fd4d69b96d522dbdeadad'\n",
    "\n",
    "notebooks_client = NotebooksClient(api_key)\n",
    "\n",
    "print(notebooks_client.get(\n",
    "    id='nt4g4nxyg4'\n",
    "))"
   ]
  },
  {
   "cell_type": "code",
   "execution_count": 14,
   "id": "554b9b82-7a73-486a-bea5-c92537d7b622",
   "metadata": {
    "execution": {
     "iopub.execute_input": "2022-08-29T23:05:49.553035Z",
     "iopub.status.busy": "2022-08-29T23:05:49.552731Z",
     "iopub.status.idle": "2022-08-29T23:05:52.428112Z",
     "shell.execute_reply": "2022-08-29T23:05:52.427295Z",
     "shell.execute_reply.started": "2022-08-29T23:05:49.553011Z"
    }
   },
   "outputs": [
    {
     "name": "stdout",
     "output_type": "stream",
     "text": [
      "\u001b[0mSuccessfully added your API Key to /root/.paperspace/config.json. You're ready to go!\u001b[0m\n",
      "\u001b[0m\u001b[K\u001b[0m\u001b[?25h\u001b[0m\u001b[0m+---------+---------------------------------------------+\n",
      "| Name    | Transformers + NLP 08/29/2022               |\n",
      "+---------+---------------------------------------------+\n",
      "| ID      | nt4g4nxyg4                                  |\n",
      "| Project | p32f0hcvnbc                                 |\n",
      "| VM Type | A4000                                       |\n",
      "| State   | Running                                     |\n",
      "| FQDN    | nt4g4nxyg4.clg07azjl.paperspacegradient.com |\n",
      "| Tags    |                                             |\n",
      "+---------+---------------------------------------------+\u001b[0m\n",
      "\u001b[0m\u001b[K\u001b[0m\u001b[?25h\u001b[0m\u001b[0m"
     ]
    }
   ],
   "source": [
    "!gradient apiKey 1fb1293c3fd4d69b96d522dbdeadad\n",
    "!gradient notebooks details --id nt4g4nxyg4"
   ]
  },
  {
   "cell_type": "code",
   "execution_count": null,
   "id": "4ae07891-b03c-4642-b5b5-6bff9578c248",
   "metadata": {},
   "outputs": [],
   "source": []
  },
  {
   "cell_type": "code",
   "execution_count": null,
   "id": "a3304ece-9560-4918-b0ec-653be5a98874",
   "metadata": {},
   "outputs": [],
   "source": []
  }
 ],
 "metadata": {
  "kernelspec": {
   "display_name": "Python 3 (ipykernel)",
   "language": "python",
   "name": "python3"
  },
  "language_info": {
   "codemirror_mode": {
    "name": "ipython",
    "version": 3
   },
   "file_extension": ".py",
   "mimetype": "text/x-python",
   "name": "python",
   "nbconvert_exporter": "python",
   "pygments_lexer": "ipython3",
   "version": "3.9.13"
  }
 },
 "nbformat": 4,
 "nbformat_minor": 5
}
